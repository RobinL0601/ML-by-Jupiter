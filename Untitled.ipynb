{
 "cells": [
  {
   "cell_type": "code",
   "execution_count": 1,
   "id": "e35daa8e",
   "metadata": {},
   "outputs": [
    {
     "name": "stdout",
     "output_type": "stream",
     "text": [
      "Python Data Analysis\n"
     ]
    }
   ],
   "source": [
    "print(\"Python Data Analysis\")"
   ]
  },
  {
   "cell_type": "code",
   "execution_count": 17,
   "id": "4e715dd6",
   "metadata": {},
   "outputs": [],
   "source": [
    "import pandas as pd"
   ]
  },
  {
   "cell_type": "code",
   "execution_count": 18,
   "id": "181ccdc3",
   "metadata": {},
   "outputs": [],
   "source": [
    "Data = pd.read_csv('dataSample.csv')"
   ]
  },
  {
   "cell_type": "code",
   "execution_count": 19,
   "id": "e8ee99c5",
   "metadata": {},
   "outputs": [],
   "source": [
    "# Here is data clean part\n",
    "\n",
    "# for all elements can't be Null\n",
    "def dataClean(data):\n",
    "    modified_data = data\n",
    "    for row in data:\n",
    "        isNull = False\n",
    "        for unit in row:\n",
    "            if unit == None:\n",
    "                isNull = True\n",
    "                break\n",
    "        if isNull == True:\n",
    "            modified_data.remove(row)\n",
    "    return modified_data\n",
    "\n",
    "# for some elements can't be Null\n",
    "\n",
    "# select is an array contain the index of attributes should not be Null\n",
    "\n",
    "def dataCleanSelect(data, select):\n",
    "    modified_data = data\n",
    "    for row in data:\n",
    "        isNull = False\n",
    "        for unit in select:\n",
    "            # we can check in range 0 to num of Column, But! may not have to\n",
    "            if row[unit] == None:\n",
    "                isNull = True\n",
    "                break\n",
    "        if isNull == True:\n",
    "            modified_data.remove(row)\n",
    "    return modified_data\n"
   ]
  },
  {
   "cell_type": "code",
   "execution_count": 20,
   "id": "a4a3bad4",
   "metadata": {},
   "outputs": [
    {
     "name": "stdout",
     "output_type": "stream",
     "text": [
      "[['1', 'JJ', 'Sooo!'], ['3', None, 'Oooops~']]\n",
      "[['1', 'JJ', 'Sooo!'], ['3', None, 'Oooops~']]\n"
     ]
    }
   ],
   "source": [
    "Samp_data = [['1', 'JJ', 'Sooo!'], ['3', None, 'Oooops~']]\n",
    "\n",
    "# print(Samp_data)\n",
    "\n",
    "# Samp_result = dataClean(Samp_data)\n",
    "\n",
    "# print(Samp_result)\n",
    "\n",
    "Select = [2, 0]\n",
    "\n",
    "Samp_result2 = dataCleanSelect(Samp_data, Select)\n",
    "\n",
    "print(Samp_data)\n",
    "\n",
    "Select = [0, -1]\n",
    "\n",
    "Samp_result3 = dataCleanSelect(Samp_data, Select)\n",
    "\n",
    "print(Samp_data)"
   ]
  },
  {
   "cell_type": "code",
   "execution_count": 22,
   "id": "8465c88c",
   "metadata": {},
   "outputs": [],
   "source": [
    "# Here is split of prediction conditions and prediction result\n",
    "\n",
    "X = Data.drop(columns=['genre'])\n",
    "\n",
    "y = Data['genre']"
   ]
  },
  {
   "cell_type": "code",
   "execution_count": 23,
   "id": "01e85a25",
   "metadata": {},
   "outputs": [],
   "source": [
    "from sklearn.tree import DecisionTreeClassifier "
   ]
  },
  {
   "cell_type": "code",
   "execution_count": 33,
   "id": "6e121a03",
   "metadata": {},
   "outputs": [],
   "source": [
    "# here we give model\n",
    "\n",
    "model = DecisionTreeClassifier()\n"
   ]
  },
  {
   "cell_type": "code",
   "execution_count": 36,
   "id": "b0b616d4",
   "metadata": {},
   "outputs": [
    {
     "name": "stdout",
     "output_type": "stream",
     "text": [
      "['HipHop' 'HipHop' 'Acoustic' 'Classical']\n"
     ]
    },
    {
     "data": {
      "text/plain": [
       "1.0"
      ]
     },
     "execution_count": 36,
     "metadata": {},
     "output_type": "execute_result"
    }
   ],
   "source": [
    "# accuracy for model\n",
    "from sklearn.model_selection import train_test_split \n",
    "\n",
    "# we split to train and test sets\n",
    "X_train, X_test, y_train, y_test = train_test_split(X, y, test_size=0.2)\n",
    "\n",
    "model.fit(X_train, y_train)\n",
    "\n",
    "predictions = model.predict(X_test)\n",
    "\n",
    "print(predictions)\n",
    "\n",
    "# we compare predicted result with result set results\n",
    "from sklearn.metrics import accuracy_score\n",
    "\n",
    "result = accuracy_score(y_test, predictions)\n",
    "\n",
    "result\n"
   ]
  },
  {
   "cell_type": "code",
   "execution_count": 40,
   "id": "4cc40296",
   "metadata": {},
   "outputs": [
    {
     "data": {
      "text/plain": [
       "['music_recommander.joblib']"
      ]
     },
     "execution_count": 40,
     "metadata": {},
     "output_type": "execute_result"
    }
   ],
   "source": [
    "# here we want to save the model above we use\n",
    "\n",
    "import joblib\n",
    "\n",
    "joblib.dump(model, 'music_recommander.joblib')"
   ]
  },
  {
   "cell_type": "code",
   "execution_count": 42,
   "id": "36a57da8",
   "metadata": {},
   "outputs": [
    {
     "name": "stderr",
     "output_type": "stream",
     "text": [
      "/opt/anaconda3/lib/python3.9/site-packages/sklearn/base.py:450: UserWarning: X does not have valid feature names, but DecisionTreeClassifier was fitted with feature names\n",
      "  warnings.warn(\n"
     ]
    },
    {
     "data": {
      "text/plain": [
       "array(['HipHop'], dtype=object)"
      ]
     },
     "execution_count": 42,
     "metadata": {},
     "output_type": "execute_result"
    }
   ],
   "source": [
    "# we use saved model above, try to use it\n",
    "\n",
    "Model = joblib.load('music_recommander.joblib')\n",
    "\n",
    "prediction2 = Model.predict([[21,1]])\n",
    "\n",
    "prediction2"
   ]
  },
  {
   "cell_type": "code",
   "execution_count": 44,
   "id": "96bbfb51",
   "metadata": {},
   "outputs": [],
   "source": [
    "# visualize the model above\n",
    "\n",
    "from sklearn import tree\n",
    "\n",
    "tree.export_graphviz(Model, out_file='music_recommander.dot',\n",
    "                    feature_names=['age','gender'],\n",
    "                    class_names=sorted(y.unique()),\n",
    "                    label='all', rounded=True, filled=True)"
   ]
  },
  {
   "cell_type": "code",
   "execution_count": null,
   "id": "4479beb0",
   "metadata": {},
   "outputs": [],
   "source": []
  }
 ],
 "metadata": {
  "kernelspec": {
   "display_name": "Python 3 (ipykernel)",
   "language": "python",
   "name": "python3"
  },
  "language_info": {
   "codemirror_mode": {
    "name": "ipython",
    "version": 3
   },
   "file_extension": ".py",
   "mimetype": "text/x-python",
   "name": "python",
   "nbconvert_exporter": "python",
   "pygments_lexer": "ipython3",
   "version": "3.9.12"
  }
 },
 "nbformat": 4,
 "nbformat_minor": 5
}
